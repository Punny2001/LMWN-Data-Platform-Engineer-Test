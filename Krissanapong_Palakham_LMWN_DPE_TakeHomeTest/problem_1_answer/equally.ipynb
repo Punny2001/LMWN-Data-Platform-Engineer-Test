{
 "cells": [
  {
   "cell_type": "markdown",
   "metadata": {},
   "source": [
    "# Import required module"
   ]
  },
  {
   "cell_type": "code",
   "execution_count": 11,
   "metadata": {},
   "outputs": [],
   "source": [
    "import os\n",
    "import json"
   ]
  },
  {
   "cell_type": "markdown",
   "metadata": {},
   "source": [
    "# Declare variables"
   ]
  },
  {
   "cell_type": "code",
   "execution_count": 12,
   "metadata": {},
   "outputs": [],
   "source": [
    "CURRENT_PATH = os.getcwd()\n",
    "path: str = CURRENT_PATH\n",
    "source_name: str = \"source.json\"\n",
    "target_name: str = \"target.json\""
   ]
  },
  {
   "cell_type": "markdown",
   "metadata": {},
   "source": [
    "# Declare functions\n"
   ]
  },
  {
   "cell_type": "code",
   "execution_count": 13,
   "metadata": {},
   "outputs": [],
   "source": [
    "def extract_json_data(path: str, file_name: str):\n",
    "    if path is None or path == \"\":\n",
    "        raise ValueError(\"path variable cannot be null or empty\")\n",
    "    elif file_name is None or file_name == \"\":\n",
    "        raise ValueError(\"file_name variable cannot be null or empty\")\n",
    "    else:\n",
    "        with open(path+\"/\"+file_name, mode=\"r\") as file:\n",
    "            data = json.load(file)\n",
    "            return data\n",
    "    "
   ]
  },
  {
   "cell_type": "code",
   "execution_count": 14,
   "metadata": {},
   "outputs": [],
   "source": [
    "def log(operation, value, parent_key, after_key):\n",
    "    return {\n",
    "        \"operation\": operation,\n",
    "        \"value\": value,\n",
    "        \"parent_key\": parent_key,\n",
    "        \"after_key\": after_key\n",
    "    }"
   ]
  },
  {
   "cell_type": "code",
   "execution_count": 15,
   "metadata": {},
   "outputs": [],
   "source": [
    "def get_key_list(data, parent=[]):\n",
    "    key_list = []\n",
    "    for key, value in data.items():\n",
    "        key_list.append(\".\".join(parent)+f\".{key}\" if len(parent) > 0 else key)\n",
    "        if type(value) is dict:\n",
    "            add_parent = parent+[key]\n",
    "            key_list.extend(get_key_list(value, add_parent))\n",
    "    return key_list"
   ]
  },
  {
   "cell_type": "code",
   "execution_count": 16,
   "metadata": {},
   "outputs": [],
   "source": [
    "def get_values(data, target_key, exclude_dict_value=False):\n",
    "    separated_scheme = target_key.split(\".\")\n",
    "    for key in separated_scheme:\n",
    "        data = data[key]\n",
    "        \n",
    "    if exclude_dict_value:\n",
    "        if type(data) is dict:\n",
    "            return None\n",
    "        return {\n",
    "        separated_scheme[-1]: data\n",
    "    }\n",
    "    else:\n",
    "        return {\n",
    "        separated_scheme[-1]: data\n",
    "    }"
   ]
  },
  {
   "cell_type": "code",
   "execution_count": 17,
   "metadata": {},
   "outputs": [],
   "source": [
    "def get_after_key(data, target_key):\n",
    "    parent_key = target_key.rsplit(\".\", 1)[0]\n",
    "    relevant_key = [key for key in data if parent_key in key and key.count(\".\") == target_key.count(\".\")]\n",
    "    after_key = relevant_key[relevant_key.index(target_key)-1].split(\".\")[-1] if relevant_key.index(target_key) > 0 else None\n",
    "    return after_key\n"
   ]
  },
  {
   "cell_type": "code",
   "execution_count": 18,
   "metadata": {},
   "outputs": [],
   "source": [
    "def get_different_value(source_value, target_value):\n",
    "    if source_value != target_value:\n",
    "        return target_value\n",
    "    else:\n",
    "        return None\n"
   ]
  },
  {
   "cell_type": "code",
   "execution_count": 19,
   "metadata": {},
   "outputs": [],
   "source": [
    "def get_operation(source_data, target_data):\n",
    "    # Define output list\n",
    "    output = []\n",
    "\n",
    "    # Get list of key of both source data and target data\n",
    "    source_key = get_key_list(source_data)\n",
    "    target_key = get_key_list(target_data)\n",
    "\n",
    "    # Find different key for add_new_key operation\n",
    "    diff_key = sorted(list(set(target_key).difference(set(source_key))))\n",
    "    # Remove different key in case of new dictionary\n",
    "    index = 0\n",
    "    while index < len(diff_key)-1:\n",
    "        if diff_key[index] in diff_key[index+1]:\n",
    "            diff_key.pop(index+1)\n",
    "            index -= 1\n",
    "        index += 1\n",
    "    \n",
    "    # Find same key existed in both data for modified_value_operation\n",
    "    intersect_key = sorted(list(set(source_key).intersection(set(target_key))))\n",
    "\n",
    "    # Union all keys in order to sort the operation\n",
    "    checked_key = sorted(list(set(diff_key).union(set(intersect_key))))\n",
    "    \n",
    "    # Start log operation\n",
    "    for key in checked_key:\n",
    "        # Define operation\n",
    "        operation = \"add_new_key\" if key in diff_key else \"modify_value\"\n",
    "\n",
    "        # Find parent key list\n",
    "        separated_key = key.split(\".\")\n",
    "        parent_key = separated_key[0:-1]\n",
    "\n",
    "        # Find after key strin\n",
    "        after_key = get_after_key(target_key, key)\n",
    "\n",
    "        # Find target_value and source_value with excluding dictionary value in case of modified\n",
    "        if key in intersect_key:\n",
    "            target_value = get_values(target_data, key, exclude_dict_value=True)\n",
    "            source_value = get_values(source_data, key, exclude_dict_value=True)\n",
    "        \n",
    "        # Get normally value if it's add_new_key ops and get different value (target value) if it's modified ops\n",
    "        value = get_values(target_data, key) if key in diff_key else get_different_value(source_value, target_value)\n",
    "        \n",
    "        # Append the dictionary of log\n",
    "        output.append(log(operation, value, parent_key, after_key)) if value is not None else output\n",
    "    return output"
   ]
  },
  {
   "cell_type": "markdown",
   "metadata": {},
   "source": [
    "# Extract data source"
   ]
  },
  {
   "cell_type": "code",
   "execution_count": 20,
   "metadata": {},
   "outputs": [],
   "source": [
    "source_data = extract_json_data(path, source_name)\n",
    "target_data = extract_json_data(path, target_name)"
   ]
  },
  {
   "cell_type": "markdown",
   "metadata": {},
   "source": [
    "# Process the operation"
   ]
  },
  {
   "cell_type": "code",
   "execution_count": 21,
   "metadata": {},
   "outputs": [],
   "source": [
    "all_operation = []\n",
    "all_operation += get_operation(source_data, target_data)"
   ]
  },
  {
   "cell_type": "markdown",
   "metadata": {},
   "source": [
    "# Print the result"
   ]
  },
  {
   "cell_type": "code",
   "execution_count": 22,
   "metadata": {},
   "outputs": [
    {
     "data": {
      "text/plain": [
       "[{'operation': 'add_new_key',\n",
       "  'value': {'date': '2024-08-10'},\n",
       "  'parent_key': ['event'],\n",
       "  'after_key': 'name'},\n",
       " {'operation': 'modify_value',\n",
       "  'value': {'country': 'Japan'},\n",
       "  'parent_key': ['event', 'location'],\n",
       "  'after_key': 'city'},\n",
       " {'operation': 'add_new_key',\n",
       "  'value': {'venue': {'name': 'Tokyo Dome', 'capacity': 55000}},\n",
       "  'parent_key': ['event', 'location'],\n",
       "  'after_key': 'country'},\n",
       " {'operation': 'add_new_key',\n",
       "  'value': {'artist': 'Alt-J'},\n",
       "  'parent_key': ['event', 'performances', 'supporting', 'second'],\n",
       "  'after_key': None}]"
      ]
     },
     "execution_count": 22,
     "metadata": {},
     "output_type": "execute_result"
    }
   ],
   "source": [
    "all_operation"
   ]
  }
 ],
 "metadata": {
  "kernelspec": {
   "display_name": "Python 3",
   "language": "python",
   "name": "python3"
  },
  "language_info": {
   "codemirror_mode": {
    "name": "ipython",
    "version": 3
   },
   "file_extension": ".py",
   "mimetype": "text/x-python",
   "name": "python",
   "nbconvert_exporter": "python",
   "pygments_lexer": "ipython3",
   "version": "3.12.6"
  }
 },
 "nbformat": 4,
 "nbformat_minor": 2
}
