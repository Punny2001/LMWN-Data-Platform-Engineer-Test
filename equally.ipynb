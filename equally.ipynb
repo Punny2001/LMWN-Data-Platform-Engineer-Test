{
 "cells": [
  {
   "cell_type": "code",
   "execution_count": 1,
   "metadata": {},
   "outputs": [],
   "source": [
    "import os\n",
    "import json"
   ]
  },
  {
   "cell_type": "code",
   "execution_count": 2,
   "metadata": {},
   "outputs": [],
   "source": [
    "CURRENT_PATH = os.getcwd()\n",
    "FILE_DIR = \"[Original] DPE Take Home Test\"\n",
    "path = CURRENT_PATH+\"/\"+FILE_DIR\n",
    "source_name: str = \"source.json\"\n",
    "target_name: str = \"target.json\""
   ]
  },
  {
   "cell_type": "code",
   "execution_count": 3,
   "metadata": {},
   "outputs": [],
   "source": [
    "def extract_json_data(path: str, file_name: str):\n",
    "    if path is None or path == \"\":\n",
    "        raise ValueError(\"path variable cannot be null or empty\")\n",
    "    elif file_name is None or file_name == \"\":\n",
    "        raise ValueError(\"file_name variable cannot be null or empty\")\n",
    "    else:\n",
    "        with open(path+\"/\"+file_name, mode=\"r\") as file:\n",
    "            data = json.load(file)\n",
    "            return data\n",
    "    "
   ]
  },
  {
   "cell_type": "code",
   "execution_count": 4,
   "metadata": {},
   "outputs": [],
   "source": [
    "def get_parent_keys(data, target_key, parent=None):\n",
    "    if parent is None:\n",
    "        parent = []\n",
    "\n",
    "    for key, value in data.items():\n",
    "        if key==target_key:\n",
    "            return parent\n",
    "        \n",
    "        if type(value) is dict:\n",
    "            add_parent = parent + [key]\n",
    "            parent_key = get_parent_keys(value, target_key, add_parent)\n",
    "            if parent_key:\n",
    "                return parent_key\n",
    "    return []"
   ]
  },
  {
   "cell_type": "code",
   "execution_count": 5,
   "metadata": {},
   "outputs": [],
   "source": [
    "def log(operation, value, parent_key, after_key):\n",
    "    return {\n",
    "        \"operation\": operation,\n",
    "        \"value\": value,\n",
    "        \"parent_key\": parent_key,\n",
    "        \"after_key\": after_key\n",
    "    }"
   ]
  },
  {
   "cell_type": "code",
   "execution_count": 6,
   "metadata": {},
   "outputs": [],
   "source": [
    "source_data = extract_json_data(path, source_name)\n",
    "target_data = extract_json_data(path, target_name)"
   ]
  },
  {
   "cell_type": "code",
   "execution_count": 7,
   "metadata": {},
   "outputs": [],
   "source": [
    "def get_key_list(data, parent=[]):\n",
    "    key_list = []\n",
    "    for key, value in data.items():\n",
    "        key_list.append(\".\".join(parent)+f\".{key}\" if len(parent) > 0 else key)\n",
    "        if type(value) is dict:\n",
    "            add_parent = parent+[key]\n",
    "            key_list.extend(get_key_list(value, add_parent))\n",
    "    return key_list"
   ]
  },
  {
   "cell_type": "code",
   "execution_count": 8,
   "metadata": {},
   "outputs": [],
   "source": [
    "def get_values(data, target_key):\n",
    "    separated_scheme = target_key.split(\".\")\n",
    "    for key in separated_scheme:\n",
    "        data = data[key]\n",
    "        \n",
    "    return data\n"
   ]
  },
  {
   "cell_type": "code",
   "execution_count": 9,
   "metadata": {},
   "outputs": [],
   "source": [
    "def get_after_key(data, target_key):\n",
    "    parent_key = target_key.rsplit(\".\", 1)[0]\n",
    "    relevant_key = [key for key in data if parent_key in key and key.count(\".\") == target_key.count(\".\")]\n",
    "    after_key = relevant_key[relevant_key.index(target_key)-1].split(\".\")[-1] if relevant_key.index(target_key) > 0 else None\n",
    "    return after_key\n"
   ]
  },
  {
   "cell_type": "code",
   "execution_count": 11,
   "metadata": {},
   "outputs": [
    {
     "name": "stdout",
     "output_type": "stream",
     "text": [
      "event.date\n",
      "name\n",
      "event.location.venue\n",
      "country\n",
      "event.performances.supporting.second.artist\n",
      "None\n"
     ]
    }
   ],
   "source": [
    "def get_add_operation(source_data, target_data):\n",
    "    source_key = get_key_list(source_data)\n",
    "    target_key = get_key_list(target_data)\n",
    "    diff_key = sorted(list(set(target_key).difference(set(source_key))))\n",
    "    index = 0\n",
    "\n",
    "    while index < len(diff_key)-1:\n",
    "        if diff_key[index] in diff_key[index+1]:\n",
    "            diff_key.pop(index+1)\n",
    "            index -= 1\n",
    "        index += 1\n",
    "\n",
    "    for key in diff_key:\n",
    "        separated_key = key.split(\".\")\n",
    "        operation = \"add_new_key\"\n",
    "        parent_key = separated_key[0:-1]\n",
    "        value = get_values(target_data, key)\n",
    "        after_key = get_after_key(target_key, key)\n",
    "        print(ope)\n",
    "\n",
    "get_add_operation(source_data, target_data)"
   ]
  },
  {
   "cell_type": "code",
   "execution_count": null,
   "metadata": {},
   "outputs": [],
   "source": [
    "text = get_after_key(target_data, \"'event.date'\")\n",
    "print(text)"
   ]
  },
  {
   "cell_type": "code",
   "execution_count": null,
   "metadata": {},
   "outputs": [],
   "source": [
    "target_key"
   ]
  },
  {
   "cell_type": "code",
   "execution_count": null,
   "metadata": {},
   "outputs": [],
   "source": []
  }
 ],
 "metadata": {
  "kernelspec": {
   "display_name": "Python 3",
   "language": "python",
   "name": "python3"
  },
  "language_info": {
   "codemirror_mode": {
    "name": "ipython",
    "version": 3
   },
   "file_extension": ".py",
   "mimetype": "text/x-python",
   "name": "python",
   "nbconvert_exporter": "python",
   "pygments_lexer": "ipython3",
   "version": "3.10.13"
  }
 },
 "nbformat": 4,
 "nbformat_minor": 2
}
