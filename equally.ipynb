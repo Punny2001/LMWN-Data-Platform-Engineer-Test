{
 "cells": [
  {
   "cell_type": "code",
   "execution_count": null,
   "metadata": {},
   "outputs": [],
   "source": [
    "import os\n",
    "import json"
   ]
  },
  {
   "cell_type": "code",
   "execution_count": null,
   "metadata": {},
   "outputs": [],
   "source": [
    "CURRENT_PATH = os.getcwd()\n",
    "FILE_DIR = \"[Original] DPE Take Home Test\"\n",
    "path = CURRENT_PATH+\"/\"+FILE_DIR\n",
    "source_name: str = \"source.json\"\n",
    "target_name: str = \"target.json\""
   ]
  },
  {
   "cell_type": "code",
   "execution_count": null,
   "metadata": {},
   "outputs": [],
   "source": [
    "def extract_json_data(path: str, file_name: str):\n",
    "    if path is None or path == \"\":\n",
    "        raise ValueError(\"path variable cannot be null or empty\")\n",
    "    elif file_name is None or file_name == \"\":\n",
    "        raise ValueError(\"file_name variable cannot be null or empty\")\n",
    "    else:\n",
    "        with open(path+\"/\"+file_name, mode=\"r\") as file:\n",
    "            data = json.load(file)\n",
    "            return data\n",
    "    "
   ]
  },
  {
   "cell_type": "code",
   "execution_count": null,
   "metadata": {},
   "outputs": [],
   "source": [
    "def log(operation, value, parent_key, after_key):\n",
    "    return {\n",
    "        \"operation\": operation,\n",
    "        \"value\": value,\n",
    "        \"parent_key\": parent_key,\n",
    "        \"after_key\": after_key\n",
    "    }"
   ]
  },
  {
   "cell_type": "code",
   "execution_count": null,
   "metadata": {},
   "outputs": [],
   "source": [
    "def get_key_list(data, parent=[]):\n",
    "    key_list = []\n",
    "    for key, value in data.items():\n",
    "        key_list.append(\".\".join(parent)+f\".{key}\" if len(parent) > 0 else key)\n",
    "        if type(value) is dict:\n",
    "            add_parent = parent+[key]\n",
    "            key_list.extend(get_key_list(value, add_parent))\n",
    "    return key_list"
   ]
  },
  {
   "cell_type": "code",
   "execution_count": null,
   "metadata": {},
   "outputs": [],
   "source": [
    "def get_values(data, target_key, exclude_dict_value=False):\n",
    "    separated_scheme = target_key.split(\".\")\n",
    "    for key in separated_scheme:\n",
    "        data = data[key]\n",
    "        \n",
    "    if exclude_dict_value:\n",
    "        if type(data) is dict:\n",
    "            return None\n",
    "        return {\n",
    "        separated_scheme[-1]: data\n",
    "    }"
   ]
  },
  {
   "cell_type": "code",
   "execution_count": null,
   "metadata": {},
   "outputs": [],
   "source": [
    "def get_after_key(data, target_key):\n",
    "    parent_key = target_key.rsplit(\".\", 1)[0]\n",
    "    relevant_key = [key for key in data if parent_key in key and key.count(\".\") == target_key.count(\".\")]\n",
    "    after_key = relevant_key[relevant_key.index(target_key)-1].split(\".\")[-1] if relevant_key.index(target_key) > 0 else None\n",
    "    return after_key\n"
   ]
  },
  {
   "cell_type": "code",
   "execution_count": null,
   "metadata": {},
   "outputs": [],
   "source": [
    "def get_add_operation(source_data, target_data):\n",
    "    source_key = get_key_list(source_data)\n",
    "    target_key = get_key_list(target_data)\n",
    "    diff_key = sorted(list(set(target_key).difference(set(source_key))))\n",
    "    index = 0\n",
    "    output = []\n",
    "\n",
    "    if len(diff_key) == 0:\n",
    "        return None\n",
    "\n",
    "    while index < len(diff_key)-1:\n",
    "        if diff_key[index] in diff_key[index+1]:\n",
    "            diff_key.pop(index+1)\n",
    "            index -= 1\n",
    "        index += 1\n",
    "    \n",
    "    for key in diff_key:\n",
    "        separated_key = key.split(\".\")\n",
    "        operation = \"add_new_key\"\n",
    "        parent_key = separated_key[0:-1]\n",
    "        value = get_values(target_data, key)\n",
    "        after_key = get_after_key(target_key, key)\n",
    "        output.append(log(operation, value, parent_key, after_key))\n",
    "    \n",
    "    return output"
   ]
  },
  {
   "cell_type": "code",
   "execution_count": null,
   "metadata": {},
   "outputs": [],
   "source": [
    "def get_different_value(source_value, target_value):\n",
    "    if source_value != target_value:\n",
    "        return target_value\n",
    "    else:\n",
    "        return None\n"
   ]
  },
  {
   "cell_type": "code",
   "execution_count": null,
   "metadata": {},
   "outputs": [],
   "source": [
    "def get_modified_operation(source_data, target_data):\n",
    "    source_key = get_key_list(source_data)\n",
    "    target_key = get_key_list(target_data)\n",
    "    intersect_key = sorted(list(set(source_key).intersection(set(target_key))))\n",
    "    output = []\n",
    "\n",
    "    if len(intersect_key) == 0:\n",
    "        return None\n",
    "\n",
    "    for key in intersect_key:\n",
    "        separated_key = key.split(\".\")\n",
    "        operation = \"modify_value\"\n",
    "        parent_key = separated_key[0:-1]\n",
    "        after_key = get_after_key(target_key, key)\n",
    "\n",
    "        target_value = get_values(target_data, key, exclude_dict_value=True)\n",
    "        source_value = get_values(source_data, key, exclude_dict_value=True)\n",
    "        value = get_different_value(source_value, target_value)\n",
    "\n",
    "        output.append(log(operation, value, parent_key, after_key)) if value is not None else output\n",
    "    return output"
   ]
  },
  {
   "cell_type": "code",
   "execution_count": null,
   "metadata": {},
   "outputs": [],
   "source": [
    "source_data = extract_json_data(path, source_name)\n",
    "target_data = extract_json_data(path, target_name)"
   ]
  },
  {
   "cell_type": "code",
   "execution_count": 114,
   "metadata": {},
   "outputs": [],
   "source": [
    "all_operation = []\n",
    "all_operation += get_add_operation(source_data, target_data)\n",
    "all_operation += get_modified_operation(source_data, target_data)"
   ]
  },
  {
   "cell_type": "code",
   "execution_count": 116,
   "metadata": {},
   "outputs": [
    {
     "data": {
      "text/plain": [
       "[{'operation': 'add_new_key',\n",
       "  'value': None,\n",
       "  'parent_key': ['event'],\n",
       "  'after_key': 'name'},\n",
       " {'operation': 'add_new_key',\n",
       "  'value': None,\n",
       "  'parent_key': ['event', 'location'],\n",
       "  'after_key': 'country'},\n",
       " {'operation': 'add_new_key',\n",
       "  'value': None,\n",
       "  'parent_key': ['event', 'performances', 'supporting', 'second'],\n",
       "  'after_key': None},\n",
       " {'operation': 'modify_value',\n",
       "  'value': {'country': 'Japan'},\n",
       "  'parent_key': ['event', 'location'],\n",
       "  'after_key': 'city'}]"
      ]
     },
     "execution_count": 116,
     "metadata": {},
     "output_type": "execute_result"
    }
   ],
   "source": [
    "all_operation"
   ]
  }
 ],
 "metadata": {
  "kernelspec": {
   "display_name": "Python 3",
   "language": "python",
   "name": "python3"
  },
  "language_info": {
   "codemirror_mode": {
    "name": "ipython",
    "version": 3
   },
   "file_extension": ".py",
   "mimetype": "text/x-python",
   "name": "python",
   "nbconvert_exporter": "python",
   "pygments_lexer": "ipython3",
   "version": "3.10.13"
  }
 },
 "nbformat": 4,
 "nbformat_minor": 2
}
