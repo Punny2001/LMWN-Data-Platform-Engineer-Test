{
 "cells": [
  {
   "cell_type": "code",
   "execution_count": 1,
   "metadata": {},
   "outputs": [],
   "source": [
    "%run -n ./main.ipynb"
   ]
  },
  {
   "cell_type": "code",
   "execution_count": 2,
   "metadata": {},
   "outputs": [],
   "source": [
    "from airflow import DAG\n",
    "from airflow.operators.python import PythonOperator\n",
    "from airflow.operators.empty import EmptyOperator\n",
    "from datetime import datetime"
   ]
  },
  {
   "cell_type": "code",
   "execution_count": 3,
   "metadata": {},
   "outputs": [
    {
     "data": {
      "text/html": [
       "<pre style=\"white-space:pre;overflow-x:auto;line-height:normal;font-family:Menlo,'DejaVu Sans Mono',consolas,'Courier New',monospace\"><span style=\"color: #808000; text-decoration-color: #808000; font-weight: bold\">/var/folders/3z/w6kw66r93jxd4b5xvgpxfbkm0000gn/T/ipykernel_10063/823479861.py:</span><span style=\"color: #808000; text-decoration-color: #808000; font-weight: bold\">6</span><span style=\"color: #808000; text-decoration-color: #808000; font-weight: bold\"> RemovedInAirflow3Warning</span><span style=\"color: #808000; text-decoration-color: #808000\">: Param `schedule_interval` is deprecated and will be removed in a future release. Please use `schedule` instead.</span>\n",
       "</pre>\n"
      ],
      "text/plain": [
       "\u001b[1;33m/var/folders/3z/w6kw66r93jxd4b5xvgpxfbkm0000gn/T/ipykernel_10063/\u001b[0m\u001b[1;33m823479861.py\u001b[0m\u001b[1;33m:\u001b[0m\u001b[1;33m6\u001b[0m\u001b[1;33m RemovedInAirflow3Warning\u001b[0m\u001b[33m: Param `schedule_interval` is deprecated and will be removed in a future release. Please use `schedule` instead.\u001b[0m\n"
      ]
     },
     "metadata": {},
     "output_type": "display_data"
    }
   ],
   "source": [
    "default_args ={ \n",
    "    'owner': 'Krissanapong',\n",
    "    'start_date': datetime(2022, 1, 1)\n",
    "}\n",
    "\n",
    "with DAG(dag_id=\"vehiclie_trip\", default_args=default_args,schedule_interval='0 0 * * *') as dag:\n",
    "\n",
    "    start_process = EmptyOperator(\n",
    "        task_id=\"start_process\"\n",
    "    )\n",
    "\n",
    "    run_1st_pipeline = PythonOperator(\n",
    "            task_id=\"process_1st_pipeline\",\n",
    "            python_callable=pipeline_1st,\n",
    "            op_kwargs={'2023-06-01'},\n",
    "            dag=dag\n",
    "        )\n",
    "\n",
    "    run_2nd_pipeline = PythonOperator(\n",
    "            task_id=\"process_2nd_pipeline\",\n",
    "            python_callable=pipeline_2nd,\n",
    "            op_kwargs={'2023-01-01'},\n",
    "            dag=dag\n",
    "        )\n",
    "    \n",
    "    end_process = EmptyOperator(\n",
    "        task_id=\"end_process\"\n",
    "    )\n",
    "\n",
    "    # Set dependencies\n",
    "    start_process >> [run_1st_pipeline, run_2nd_pipeline] >> end_process\n",
    "    "
   ]
  },
  {
   "cell_type": "code",
   "execution_count": null,
   "metadata": {},
   "outputs": [],
   "source": [
    "conn = duckdb.connect(\"processed.duckdb\")"
   ]
  },
  {
   "cell_type": "code",
   "execution_count": 4,
   "metadata": {},
   "outputs": [],
   "source": [
    "result_1 = conn.execute(\"SELECT * FROM daily_transaction\")\n",
    "result_1"
   ]
  },
  {
   "cell_type": "code",
   "execution_count": null,
   "metadata": {},
   "outputs": [],
   "source": [
    "result_2 = conn.execute(\"SELECT * FROM daily_topfive_taxi_zone\")\n",
    "result_2"
   ]
  },
  {
   "cell_type": "code",
   "execution_count": null,
   "metadata": {},
   "outputs": [],
   "source": [
    "conn.close()"
   ]
  }
 ],
 "metadata": {
  "kernelspec": {
   "display_name": "Python 3",
   "language": "python",
   "name": "python3"
  },
  "language_info": {
   "codemirror_mode": {
    "name": "ipython",
    "version": 3
   },
   "file_extension": ".py",
   "mimetype": "text/x-python",
   "name": "python",
   "nbconvert_exporter": "python",
   "pygments_lexer": "ipython3",
   "version": "3.12.6"
  }
 },
 "nbformat": 4,
 "nbformat_minor": 2
}
